{
 "cells": [
  {
   "cell_type": "code",
   "execution_count": 12,
   "metadata": {},
   "outputs": [],
   "source": [
    "import numpy as np\n",
    "import pandas as pd\n",
    "from rso import rso_clustering"
   ]
  },
  {
   "cell_type": "code",
   "execution_count": 13,
   "metadata": {},
   "outputs": [
    {
     "name": "stdout",
     "output_type": "stream",
     "text": [
      "Loading data...\n",
      "Data loaded.\n"
     ]
    }
   ],
   "source": [
    "print('Loading data...')\n",
    "tf_idf = pd.read_csv('data/tfidf.csv')\n",
    "print('Data loaded.')\n",
    "\n",
    "terms = tf_idf.columns.values\n",
    "tf_idf = np.array(tf_idf)"
   ]
  },
  {
   "cell_type": "code",
   "execution_count": 14,
   "metadata": {},
   "outputs": [],
   "source": [
    "def euc_distance(instance1, instance2):\n",
    "    return np.linalg.norm(instance1 - instance2)"
   ]
  },
  {
   "cell_type": "code",
   "execution_count": 22,
   "metadata": {},
   "outputs": [
    {
     "name": "stderr",
     "output_type": "stream",
     "text": [
      "100%|██████████| 20/20 [09:11<00:00, 27.58s/it]\n"
     ]
    }
   ],
   "source": [
    "RSO_ITERATIONS = 20\n",
    "n = tf_idf.shape[1]\n",
    "k = 5\n",
    "population, best_rat, cluster_assignments, convergence = rso_clustering.rso_clustering(instances=tf_idf,\n",
    "        agents=15,\n",
    "        k=k,\n",
    "        min_bound=np.zeros((k,n)),\n",
    "        max_bound=np.ones((k,n)),\n",
    "        distance=euc_distance,\n",
    "        max_steps=RSO_ITERATIONS\n",
    ")\n"
   ]
  },
  {
   "cell_type": "code",
   "execution_count": 23,
   "metadata": {},
   "outputs": [],
   "source": [
    "with open(\"results/csv/rso/best_rat_k{}.csv\".format(k), \"a+\") as f:\n",
    "        np.savetxt(f, best_rat, delimiter=\";\")\n",
    "\n",
    "with open(\"results/csv/rso/convergence_k{}.csv\".format(k), \"a+\") as f:\n",
    "        for entry in convergence:\n",
    "                f.write(str(entry[0]) + \";\" + str(entry[1]) + \"\\n\")"
   ]
  },
  {
   "cell_type": "code",
   "execution_count": 24,
   "metadata": {},
   "outputs": [
    {
     "name": "stdout",
     "output_type": "stream",
     "text": [
      "--------------------------------------------\n",
      "K = 6\n",
      "[('ab', 0.0), ('aba', 0.0), ('abad', 0.0), ('abadi', 0.0)]\n",
      "[('ab', 0.0), ('aba', 0.0), ('abad', 0.0), ('abadi', 0.0)]\n",
      "[('ab', 0.0), ('aba', 0.0), ('abad', 0.0), ('abadi', 0.0)]\n",
      "[('ab', 0.0), ('aba', 0.0), ('abad', 0.0), ('abadi', 0.0)]\n",
      "[('ab', 0.0), ('aba', 0.0), ('abad', 0.0), ('abadi', 0.0)]\n",
      "[('ab', 0.0), ('aba', 0.0), ('abad', 0.0), ('abadi', 0.0)]\n"
     ]
    }
   ],
   "source": [
    "centroids = np.genfromtxt('results/csv/rso/best_rat_k{}.csv'.format(k), delimiter=';')\n",
    "print(\"--------------------------------------------\\nK = {}\".format(k))\n",
    "for k_index in range(len(centroids)):\n",
    "    zipped = zip(terms, centroids[k_index])\n",
    "    sorted_terms = sorted(zipped, key=lambda x: x[1], reverse=True)\n",
    "    print(sorted_terms[:4])"
   ]
  },
  {
   "cell_type": "code",
   "execution_count": 25,
   "metadata": {},
   "outputs": [
    {
     "data": {
      "image/png": "[encoded data removed]",
      "text/plain": [
       "<Figure size 432x288 with 1 Axes>"
      ]
     },
     "metadata": {
      "needs_background": "light"
     },
     "output_type": "display_data"
    }
   ],
   "source": [
    "import matplotlib.pyplot as plt\n",
    "\n",
    "with open(\"results/csv/rso/convergence_k{}.csv\".format(k), \"r\") as f:\n",
    "    lines = f.readlines()\n",
    "\n",
    "time = []\n",
    "fitness = []\n",
    "\n",
    "for step in lines:\n",
    "    split_line = step.strip().split(\";\")\n",
    "    time.append(float(split_line[0]))\n",
    "    fitness.append(round(float(split_line[1]), 3))\n",
    "    \n",
    "plt.plot(time, fitness)\n",
    "        \n",
    "plt.xlabel(\"Time (s)\")\n",
    "plt.ylabel(\"ADDC\")\n",
    "plt.title(\"RSO document clustering: best fitness over time\")\n",
    "plt.savefig(\"results/plots/demo_rso.png\")\n",
    "plt.show()"
   ]
  }
 ],
 "metadata": {
  "interpreter": {
   "hash": "54114f3fbba4d274a8c85a1d6a8c1c33fa7ce89db9398e77d99d6d2345210374"
  },
  "kernelspec": {
   "display_name": "Python 3.9.7 64-bit ('multiag': conda)",
   "language": "python",
   "name": "python3"
  },
  "language_info": {
   "codemirror_mode": {
    "name": "ipython",
    "version": 3
   },
   "file_extension": ".py",
   "mimetype": "text/x-python",
   "name": "python",
   "nbconvert_exporter": "python",
   "pygments_lexer": "ipython3",
   "version": "3.9.7"
  },
  "orig_nbformat": 4
 },
 "nbformat": 4,
 "nbformat_minor": 2
}

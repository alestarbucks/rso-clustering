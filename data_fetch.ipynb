{
 "cells": [
  {
   "cell_type": "markdown",
   "metadata": {},
   "source": [
    "# Data fetch\n",
    "\n",
    "This set of cells retrieve all published papers in the CVPR conference web page for all 3 days of the 2020 conference. They take a long time to execute since all they do is fetch and download every single pdf into a (pre-existing) folder called \"pdfs\", as well as processing them and obtaining processable data. It is recommended to not run these cells unless there is a good reason to do so. Otherwise, the preferred method to get the compressed files is to download them from:\n",
    "\n",
    "- PDFs: https://upm365-my.sharepoint.com/:u:/g/personal/alejandro_alvarezco_alumnos_upm_es/ES9Qtwt0pHBEvUB76QJtweEBGogkajCFEkw3piJqza4eew?e=LvEGyB\n",
    "- TXTs: https://upm365-my.sharepoint.com/:u:/g/personal/alejandro_alvarezco_alumnos_upm_es/EZrHe6K6cyxGjAstE2SHdPsBf51yJ-DzuD8Q2lrP9AcBSw?e=HCk3Jn\n",
    "- Stemmed TXTs: https://upm365-my.sharepoint.com/:u:/g/personal/alejandro_alvarezco_alumnos_upm_es/EXk-jVXXyJdKlayNxS2gmNkBhX_J1Kd722F9uHgubrFtRQ?e=DjnJ4o\n"
   ]
  },
  {
   "cell_type": "code",
   "execution_count": 2,
   "metadata": {},
   "outputs": [],
   "source": [
    "from bs4 import BeautifulSoup as bs\n",
    "import requests"
   ]
  },
  {
   "cell_type": "code",
   "execution_count": 2,
   "metadata": {},
   "outputs": [],
   "source": [
    "BASE_URL = \"https://openaccess.thecvf.com/\"\n",
    "DAYS = [\n",
    "    \"CVPR2020?day=2020-06-16\",\n",
    "    \"CVPR2020?day=2020-06-17\",\n",
    "    \"CVPR2020?day=2020-06-18\"\n",
    "]"
   ]
  },
  {
   "cell_type": "markdown",
   "metadata": {},
   "source": [
    "WARNING: the following cell takes around 2 min. to finish executing."
   ]
  },
  {
   "cell_type": "code",
   "execution_count": 3,
   "metadata": {},
   "outputs": [
    {
     "name": "stdout",
     "output_type": "stream",
     "text": [
      "Found 1466 papers\n"
     ]
    }
   ],
   "source": [
    "urls = []\n",
    "names = []\n",
    "\n",
    "for day in DAYS:\n",
    "\n",
    "    url = BASE_URL + day\n",
    "\n",
    "    r = requests.get(url)\n",
    "    soup = bs(r.text)\n",
    "\n",
    "    links_list = enumerate(soup.findAll('a'))\n",
    "\n",
    "    for i, link in links_list:\n",
    "        if link.string != 'pdf': continue\n",
    "        if \"onclick\" in str(link) or link.get('href') is None: continue\n",
    "        _FULLURL = BASE_URL + link.get('href')\n",
    "        if _FULLURL.endswith('.pdf'):\n",
    "            urls.append(_FULLURL)\n",
    "            names.append(soup.select('a')[i].attrs['href'])\n",
    "\n",
    "print(\"Found {} papers\".format(len(urls)))\n",
    "\n",
    "names_urls = zip(names, urls)\n"
   ]
  },
  {
   "cell_type": "markdown",
   "metadata": {},
   "source": [
    "WARNING: the following cell takes about 30 min. to execute."
   ]
  },
  {
   "cell_type": "code",
   "execution_count": 4,
   "metadata": {},
   "outputs": [],
   "source": [
    "for name, link in names_urls:\n",
    "    resp = requests.get(link)\n",
    "    new_name = name.replace('/', '_')\n",
    "    with open(\"data/pdfs/\"+new_name, 'wb') as f:\n",
    "        f.write(resp.content)\n",
    "        f.close()"
   ]
  },
  {
   "cell_type": "code",
   "execution_count": 6,
   "metadata": {},
   "outputs": [],
   "source": [
    "import textract\n",
    "import os\n",
    "\n",
    "for file_name in os.listdir(\"data/pdfs/\"):\n",
    "    if \"zip\" in file_name: continue\n",
    "    text = textract.process(\"data/pdfs/\"+file_name)\n",
    "    with open(\"data/txts/\"+file_name.replace(\".pdf\", \".txt\"), 'wb') as f:\n",
    "        f.write(text)\n",
    "        f.close()\n",
    "\n"
   ]
  },
  {
   "cell_type": "code",
   "execution_count": 11,
   "metadata": {},
   "outputs": [],
   "source": [
    "import nltk\n",
    "from nltk.stem.porter import PorterStemmer\n",
    "\n",
    "corpus = []\n",
    "porter_stemmer = PorterStemmer()\n",
    "\n",
    "for file_name in os.listdir(\"data/txts/\"):\n",
    "    if \"zip\" in file_name: continue\n",
    "    with open(\"data/txts/\" + file_name, \"r\") as f:\n",
    "        try:\n",
    "            text = f.read()\n",
    "        except UnicodeDecodeError:\n",
    "            print(\"UnicodeDecodeError in \", file_name)\n",
    "            continue\n",
    "    with open(\"data/stemmed/\" + file_name, \"w\") as f:\n",
    "        nltk_tokens = nltk.word_tokenize(text)\n",
    "        stems = []\n",
    "\n",
    "        for w_port in range(len(nltk_tokens)):\n",
    "            if \"-\" in nltk_tokens[w_port]:\n",
    "                new_words = nltk_tokens[w_port].split(\"-\")\n",
    "                stems.append(porter_stemmer.stem(new_words[0]))\n",
    "                stems.append(porter_stemmer.stem(new_words[1]))\n",
    "            else:\n",
    "                stems.append(porter_stemmer.stem(nltk_tokens[w_port]))\n",
    "        \n",
    "        for s in stems:\n",
    "            f.write(s + \" \")\n",
    "        f.close()"
   ]
  }
 ],
 "metadata": {
  "interpreter": {
   "hash": "916dbcbb3f70747c44a77c7bcd40155683ae19c65e1c03b4aa3499c5328201f1"
  },
  "kernelspec": {
   "display_name": "Python 3.8.10 64-bit",
   "language": "python",
   "name": "python3"
  },
  "language_info": {
   "codemirror_mode": {
    "name": "ipython",
    "version": 3
   },
   "file_extension": ".py",
   "mimetype": "text/x-python",
   "name": "python",
   "nbconvert_exporter": "python",
   "pygments_lexer": "ipython3",
   "version": "3.9.7"
  },
  "orig_nbformat": 4
 },
 "nbformat": 4,
 "nbformat_minor": 2
}

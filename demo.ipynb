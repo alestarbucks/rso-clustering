{
 "cells": [
  {
   "cell_type": "code",
   "execution_count": 2,
   "metadata": {},
   "outputs": [],
   "source": [
    "import numpy as np\n",
    "import pandas as pd"
   ]
  },
  {
   "cell_type": "code",
   "execution_count": 4,
   "metadata": {},
   "outputs": [
    {
     "name": "stdout",
     "output_type": "stream",
     "text": [
      "Loading data...\n",
      "Data loaded.\n"
     ]
    }
   ],
   "source": [
    "print('Loading data...')\n",
    "tf_idf = pd.read_csv('data/tfidf.csv')\n",
    "print('Data loaded.')\n",
    "\n",
    "terms = tf_idf.columns.values\n",
    "arr = np.array(tf_idf)"
   ]
  },
  {
   "cell_type": "code",
   "execution_count": 10,
   "metadata": {},
   "outputs": [
    {
     "name": "stdout",
     "output_type": "stream",
     "text": [
      "--------------------------------------------\n",
      "K = 3\n",
      "['inlier', 'registr', 'kernel', 'dimension', 'deblur', 'subspac']\n",
      "['hoi', 'bodi', 'fsp', 'human', 'object', 'rn']\n",
      "['trajectori', 'forecast', 'action', 'gaze', 'regret', 'model']\n",
      "--------------------------------------------\n",
      "K = 5\n",
      "['samplenet', 'point', 'cloud', 'sampl', 'phrase', 'profil']\n",
      "['layout', 'scene', 'graph', 'bed', 'sln', 'flow']\n",
      "['sqe', 'track', 'trajectori', 'ast', 'domain', 'target']\n",
      "['cgan', 'instanc', 'proc', 'quantiz', 'yz', 'semi']\n",
      "['object', 'lidar', 'point', 'instanc', 'cloud', 'segment']\n",
      "--------------------------------------------\n",
      "K = 8\n",
      "['tracker', 'track', 'updat', 'meta', 'atom', 'eco']\n",
      "['cluster', 'video', 'neg', 'triplet', 'smart', 'clc']\n",
      "['neuroimag', 'biomark', 'adni', 'alzheim', 'enrich', 'diseas']\n",
      "['din', 'odin', 'mahalanobi', 'cifar', 'pout', 'shift']\n",
      "['prune', 'flop', 'convnet', 'count', 'filter', 'rank']\n",
      "['sentenc', 'modal', 'attent', 'imag', 'word', 'intra']\n",
      "['class', 'old', 'increment', 'ng', 'forget', 'cil']\n",
      "['densepos', 'null', 'latexit', 'anim', 'pose', 'class']\n",
      "--------------------------------------------\n",
      "K = 10\n",
      "['dsa', 'facial', 'registr', 'diffeomorph', 'inpaint', 'imag']\n",
      "['object', 'propos', 'point', 'siamrpn', 'mpa', 'instanc']\n",
      "['anchor', 'qap', 'doubli', 'ensembl', 'point', 'sparsiti']\n",
      "['textur', 'unwarp', 'shape', 'cloud', 'graph', 'patch']\n",
      "['lidar', 'bit', 'vehicl', 'camera', 'sensor', 'track']\n",
      "['graph', 'kd', 'cs', 'motion', 'fb', 'multiscal']\n",
      "['wtj', 'flow', 'optic', 'odometri', 'estim', 'depth']\n",
      "['nm', 'crowdhuman', 'crowd', 'spectral', 'detect', 'fpn']\n",
      "['topolog', 'dnn', 'latexit', 'persist', 'footprint', 'travers']\n",
      "['deblur', 'aic', 'blur', 'kernel', 'blind', 'imag']\n",
      "--------------------------------------------\n",
      "K = 12\n",
      "['quantiz', 'light', 'render', 'materi', 'precis', 'svbrdf']\n",
      "['cloth', 'alfr', 'viton', 'languag', 'vtnfp', 'vton']\n",
      "['finegym', 'action', 'gaug', 'minima', 'rotat', 'convex']\n",
      "['estim', 'filter', 'incomplet', 'fusion', 'meta', 'camera']\n",
      "['hoi', 'sr', 'bodi', 'drn', 'dual', 'lr']\n",
      "['grasp', 'rl', 'cloud', 'cyclegan', 'point', 'simul']\n",
      "['style', 'rmse', 'welsch', 'ide', 'icp', 'rigid']\n",
      "['contact', 'quantiz', 'ero', 'bit', 'facet', 'signatur']\n",
      "['fsod', 'inpaint', 'hole', 'shot', 'categori', 'rpn']\n",
      "['reachabl', 'person', 'futur', 'attribut', 'egocentr', 'fln']\n",
      "['sketch', 'forgeri', 'std', 'face', 'video', 'sbir']\n",
      "['signatur', 'multiplex', 'motif', 'madd', 'verif', 'hvg']\n"
     ]
    }
   ],
   "source": [
    "for k in [3,5,8,10,12]:\n",
    "    centroids = np.genfromtxt('results/csv/pso/best_part_k{}.csv'.format(k), delimiter=';')\n",
    "    print(\"--------------------------------------------\\nK = {}\".format(k))\n",
    "    for k_index in range(len(centroids)):\n",
    "        zipped = zip(terms, centroids[k_index])\n",
    "        sorted_terms = sorted(zipped, key=lambda x: x[1], reverse=True)\n",
    "        print([i[0] for i in sorted_terms[:6]])"
   ]
  },
  {
   "cell_type": "code",
   "execution_count": 11,
   "metadata": {},
   "outputs": [
    {
     "name": "stdout",
     "output_type": "stream",
     "text": [
      "--------------------------------------------\n",
      "K = 3\n",
      "['imag', 'point', 'pose', 'use', 'depth', 'estim']\n",
      "['object', 'video', 'featur', 'model', 'use', 'imag']\n",
      "['imag', 'train', 'learn', 'network', 'model', 'use']\n",
      "--------------------------------------------\n",
      "K = 5\n",
      "['attack', 'adversari', 'perturb', 'model', 'defens', 'pgd']\n",
      "['model', 'learn', 'train', 'network', 'use', 'imag']\n",
      "['point', 'cloud', 'shape', 'use', 'network', 'featur']\n",
      "['imag', 'use', 'method', 'network', 'train', 'gener']\n",
      "['object', 'pose', 'use', 'detect', 'imag', 'featur']\n",
      "--------------------------------------------\n",
      "K = 8\n",
      "['wsol', 'cub', 'cam', 'model', 'local', 'box']\n",
      "['imag', 'gener', 'face', 'network', 'use', 'method']\n",
      "['imag', 'model', 'learn', 'train', 'network', 'use']\n",
      "['point', 'pose', 'depth', 'use', 'imag', 'cloud']\n",
      "['video', 'action', 'frame', 'tempor', 'model', 'use']\n",
      "['salienc', 'salient', 'rgb', 'detect', 'featur', 'object']\n",
      "['homographi', 'dpcp', 'warp', 'parallax', 'imag', 'stitch']\n",
      "['junction', 'road', 'wirefram', 'segment', 'line', 'afm']\n",
      "--------------------------------------------\n",
      "K = 10\n",
      "['gct', 'eca', 'lcn', 'gn', 'channel', 'se']\n",
      "['bpd', 'super', 'segment', 'imag', 'pixel', 'boundari']\n",
      "['search', 'network', 'prune', 'architectur', 'na', 'model']\n",
      "['learn', 'class', 'train', 'domain', 'model', 'imag']\n",
      "['privaci', 'encrypt', 'privat', 'ciphertext', 'secur', 'bit']\n",
      "['video', 'model', 'featur', 'object', 'use', 'network']\n",
      "['point', 'pose', 'cloud', 'use', 'depth', 'shape']\n",
      "['imag', 'use', 'network', 'method', 'train', 'gener']\n",
      "['face', 'imag', 'facial', 'landmark', 'model', 'use']\n",
      "['attack', 'adversari', 'perturb', 'model', 'defens', 'pgd']\n",
      "--------------------------------------------\n",
      "K = 12\n",
      "['imag', 'gener', 'network', 'use', 'method', 'train']\n",
      "['occlus', 'compositionalnet', 'occlud', 'mask', 'panopt', 'object']\n",
      "['click', 'segment', 'interact', 'iog', 'br', 'user']\n",
      "['video', 'action', 'frame', 'object', 'featur', 'model']\n",
      "['pose', 'estim', 'imag', 'human', 'bodi', 'use']\n",
      "['attack', 'adversari', 'perturb', 'model', 'defens', 'pgd']\n",
      "['shadow', 'imag', 'remov', 'document', 'light', 'method']\n",
      "['point', 'cloud', 'shape', 'use', 'network', 'object']\n",
      "['teacher', 'student', 'distil', 'model', 'kd', 'knowledg']\n",
      "['depth', 'stereo', 'imag', 'dispar', 'estim', 'monocular']\n",
      "['face', 'imag', 'use', 'reconstruct', 'camera', 'model']\n",
      "['learn', 'imag', 'train', 'model', 'use', 'network']\n"
     ]
    }
   ],
   "source": [
    "for k in [3,5,8,10,12]:\n",
    "    centroids = np.genfromtxt('results/csv/kmeans/best_centroids_k{}.csv'.format(k), delimiter=';')\n",
    "    print(\"--------------------------------------------\\nK = {}\".format(k))\n",
    "    for k_index in range(len(centroids)):\n",
    "        zipped = zip(terms, centroids[k_index])\n",
    "        sorted_terms = sorted(zipped, key=lambda x: x[1], reverse=True)\n",
    "        print([i[0] for i in sorted_terms[:6]])"
   ]
  },
  {
   "cell_type": "code",
   "execution_count": 8,
   "metadata": {},
   "outputs": [
    {
     "name": "stdout",
     "output_type": "stream",
     "text": [
      "--------------------------------------------\n",
      "K = 3\n",
      "['use', 'row', 'input', 'supervis', 'present', 'dure']\n",
      "['pixel', 'origin', 'follow', 'qi', 'capabl', 'thu']\n",
      "['sourc', 'sec', 'obtain', 'hyper', 'engin', 'significantli']\n",
      "--------------------------------------------\n",
      "K = 5\n",
      "['node', 'express', 'graph', 'vm', 'ref', 'languag']\n",
      "['sign', 'news', 'isol', 'prototyp', 'languag', 'coars']\n",
      "['dcf', 'jl', 'salienc', 'salient', 'rgb', 'cm']\n",
      "['tail', 'branch', 'inaturalist', 'sampler', 'cifar', 'ce']\n",
      "['frame', 'interpol', 'video', 'meta', 'sepconv', 'dti']\n",
      "--------------------------------------------\n",
      "K = 8\n",
      "['pointpaint', 'lidar', 'paint', 'pointpillar', 'nuscen', 'kitti']\n",
      "['mask', 'segment', 'model', 'gci', 'use', 'supervis']\n",
      "['lggan', 'gener', 'class', 'imag', 'igl', 'global']\n",
      "['transient', 'nlo', 'imag', 'humanoid', 'pose', 'use']\n",
      "['bpe', 'rs', 'search', 'hyper', 'architectur', 'na']\n",
      "['registr', 'icp', 'fgr', 'conf', 'point', 'use']\n",
      "['compositionalnet', 'occlud', 'occlus', 'dcnn', 'composit', 'model']\n",
      "['shot', 'subspac', 'dsn', 'learn', 'prototyp', 'class']\n",
      "--------------------------------------------\n",
      "K = 10\n",
      "['ab', 'aba', 'abad', 'abadi', 'abandon', 'abarghouei']\n",
      "['ab', 'aba', 'abad', 'abadi', 'abandon', 'abarghouei']\n",
      "['ab', 'aba', 'abad', 'abadi', 'abandon', 'abarghouei']\n",
      "['ab', 'aba', 'abad', 'abadi', 'abandon', 'abarghouei']\n",
      "['ab', 'aba', 'abad', 'abadi', 'abandon', 'abarghouei']\n",
      "['ab', 'aba', 'abad', 'abadi', 'abandon', 'abarghouei']\n",
      "['ab', 'aba', 'abad', 'abadi', 'abandon', 'abarghouei']\n",
      "['ab', 'aba', 'abad', 'abadi', 'abandon', 'abarghouei']\n",
      "['ab', 'aba', 'abad', 'abadi', 'abandon', 'abarghouei']\n",
      "['ab', 'aba', 'abad', 'abadi', 'abandon', 'abarghouei']\n",
      "--------------------------------------------\n",
      "K = 12\n",
      "['ab', 'aba', 'abad', 'abadi', 'abandon', 'abarghouei']\n",
      "['ab', 'aba', 'abad', 'abadi', 'abandon', 'abarghouei']\n",
      "['ab', 'aba', 'abad', 'abadi', 'abandon', 'abarghouei']\n",
      "['ab', 'aba', 'abad', 'abadi', 'abandon', 'abarghouei']\n",
      "['ab', 'aba', 'abad', 'abadi', 'abandon', 'abarghouei']\n",
      "['ab', 'aba', 'abad', 'abadi', 'abandon', 'abarghouei']\n",
      "['ab', 'aba', 'abad', 'abadi', 'abandon', 'abarghouei']\n",
      "['ab', 'aba', 'abad', 'abadi', 'abandon', 'abarghouei']\n",
      "['ab', 'aba', 'abad', 'abadi', 'abandon', 'abarghouei']\n",
      "['ab', 'aba', 'abad', 'abadi', 'abandon', 'abarghouei']\n",
      "['ab', 'aba', 'abad', 'abadi', 'abandon', 'abarghouei']\n",
      "['ab', 'aba', 'abad', 'abadi', 'abandon', 'abarghouei']\n"
     ]
    }
   ],
   "source": [
    "for k in [3,5,8,10,12]:\n",
    "    centroids = np.genfromtxt('results/csv/rso/best_rat_k{}.csv'.format(k), delimiter=';')\n",
    "    print(\"--------------------------------------------\\nK = {}\".format(k))\n",
    "    for k_index in range(len(centroids)):\n",
    "        zipped = zip(terms, centroids[k_index])\n",
    "        sorted_terms = sorted(zipped, key=lambda x: x[1], reverse=True)\n",
    "        print([i[0] for i in sorted_terms[:6]])"
   ]
  },
  {
   "cell_type": "code",
   "execution_count": null,
   "metadata": {},
   "outputs": [
    {
     "name": "stdout",
     "output_type": "stream",
     "text": [
      "--------------------------------------------\n",
      "K = 3\n",
      "['cloud', 'point', 'gnn', 'vertex', 'augmentor', 'graph']\n",
      "['unseen', 'quantum', 'object', 'seen', 'confid', 'predictor']\n",
      "['rain', 'streak', 'stuff', 'derain', 'graph', 'thing']\n",
      "--------------------------------------------\n",
      "K = 5\n",
      "['bnm', 'kakf', 'categori', 'kak', 'nuclear', 'divers']\n",
      "['imag', 'inpaint', 'im', 'divers', 'repair', 'mask']\n",
      "['hand', 'bayesian', 'uncertainti', 'uma', 'egocentr', 'adapt']\n",
      "['rfr', 'inpaint', 'recurr', 'kca', 'hole', 'pconv']\n",
      "['counterfactu', 'explan', 'hy', 'counter', 'teach', 'scout']\n",
      "--------------------------------------------\n",
      "K = 8\n",
      "['hand', 'pose', 'object', 'estim', 'frame', 'photometr']\n",
      "['light', 'scene', 'illumin', 'render', 'environ', 'volum']\n",
      "['pill', 'imprint', 'cure', 'nih', 'textur', 'contour']\n",
      "['round', 'scribbl', 'interact', 'user', 'embed', 'ivo']\n",
      "['curvatur', 'elastica', 'ui', 'euler', 'tv', 'tc']\n",
      "['inpaint', 'im', 'complet', 'hq', 'pdata', 'ig']\n",
      "['vqa', 'answer', 'question', 'text', 'ocr', 'qa']\n",
      "['svbrdf', 'view', 'geometri', 'brdf', 'reflect', 'vertex']\n",
      "--------------------------------------------\n",
      "K = 10\n",
      "['face', 'textur', 'facial', 'morphabl', 'uv', 'coeffici']\n",
      "['uncertainti', 'pfe', 'dul', 'face', 'varianc', 'determinist']\n",
      "['salienc', 'attent', 'rgb', 'modal', 'maxf', 'nl']\n",
      "['reenact', 'pose', 'descriptor', 'proc', 'ident', 'person']\n",
      "['monocular', 'odometri', 'vo', 'euroc', 'mav', 'photometr']\n",
      "['edit', 'stargan', 'attribut', 'beak', 'resolut', 'field']\n",
      "['bodi', 'garment', 'cloth', 'recommend', 'dress', 'shape']\n",
      "['conf', 'proc', 'spsr', 'render', 'reconstruct', 'implicit']\n",
      "['outfit', 'item', 'hoe', 'ry', 'compat', 'retriev']\n",
      "['old', 'class', 'increment', 'onlin', 'food', 'exemplar']\n",
      "--------------------------------------------\n",
      "K = 12\n",
      "['modal', 'uda', 'lxm', 'fusion', 'lidar', 'uni']\n",
      "['srg', 'agent', 'rg', 'fd', 'prl', 'action']\n",
      "['pnp', 'sci', 'admm', 'wnnm', 'denois', 'compress']\n",
      "['fgan', 'teacher', 'amalgam', 'dual', 'igan', 'dafl']\n",
      "['nr', 'nois', 'sd', 'gan', 'imag', 'gn']\n",
      "['polar', 'nlo', 'light', 'wall', 'transport', 'camera']\n",
      "['class', 'train', 'video', 'kinet', 'ucf', 'action']\n",
      "['ncnn', 'confid', 'uncertainti', 'depth', 'disturb', 'aus']\n",
      "['class', 'phase', 'tail', 'increment', 'old', 'lvi']\n",
      "['style', 'draw', 'photo', 'cycl', 'portrait', 'combogan']\n",
      "['hash', 'csq', 'center', 'ham', 'bit', 'retriev']\n",
      "['grid', 'implicit', 'latent', 'reconstruct', 'scene', 'point']\n"
     ]
    }
   ],
   "source": [
    "for k in [3,5,8,10,12]:\n",
    "    centroids = np.genfromtxt('results/csv/new_rso/best_rat_k{}.csv'.format(k), delimiter=';')\n",
    "    print(\"--------------------------------------------\\nK = {}\".format(k))\n",
    "    for k_index in range(len(centroids)):\n",
    "        zipped = zip(terms, centroids[k_index])\n",
    "        sorted_terms = sorted(zipped, key=lambda x: x[1], reverse=True)\n",
    "        print([i[0] for i in sorted_terms[:6]])"
   ]
  }
 ],
 "metadata": {
  "interpreter": {
   "hash": "54114f3fbba4d274a8c85a1d6a8c1c33fa7ce89db9398e77d99d6d2345210374"
  },
  "kernelspec": {
   "display_name": "Python 3.9.7 64-bit ('multiag': conda)",
   "language": "python",
   "name": "python3"
  },
  "language_info": {
   "codemirror_mode": {
    "name": "ipython",
    "version": 3
   },
   "file_extension": ".py",
   "mimetype": "text/x-python",
   "name": "python",
   "nbconvert_exporter": "python",
   "pygments_lexer": "ipython3",
   "version": "3.9.7"
  },
  "orig_nbformat": 4
 },
 "nbformat": 4,
 "nbformat_minor": 2
}

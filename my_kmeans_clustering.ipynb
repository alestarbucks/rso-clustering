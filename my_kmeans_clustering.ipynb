{
 "cells": [
  {
   "cell_type": "code",
   "execution_count": 1,
   "metadata": {},
   "outputs": [],
   "source": [
    "import pandas as pd\n",
    "import numpy as np\n",
    "from k_means import my_k_means\n",
    "import matplotlib.pyplot as plt"
   ]
  },
  {
   "cell_type": "code",
   "execution_count": 2,
   "metadata": {},
   "outputs": [
    {
     "name": "stdout",
     "output_type": "stream",
     "text": [
      "Loading data...\n",
      "Done.\n"
     ]
    }
   ],
   "source": [
    "print(\"Loading data...\")\n",
    "# tf_idf = np.genfromtxt('data/tfidf.csv', skip_header=True, delimiter=',')\n",
    "tf_idf = pd.read_csv('data/tfidf.csv')\n",
    "print(\"Done.\")\n",
    "\n",
    "tf_idf = np.array(tf_idf)"
   ]
  },
  {
   "cell_type": "code",
   "execution_count": 3,
   "metadata": {},
   "outputs": [],
   "source": [
    "def euc_distance(mp, mj):\n",
    "    return np.linalg.norm(mp-mj)\n",
    "\n",
    "def cos_distance(mp, mj):\n",
    "    return np.dot(mp, mj)/(np.linalg.norm(mp)*np.linalg.norm(mj))\n",
    "\n",
    "# print(euc_distance(tf_idf[0], tf_idf[1]))\n",
    "# print(cos_distance(tf_idf[0], tf_idf[1]))"
   ]
  },
  {
   "cell_type": "code",
   "execution_count": 4,
   "metadata": {},
   "outputs": [
    {
     "name": "stderr",
     "output_type": "stream",
     "text": [
      "100%|██████████| 100/100 [02:37<00:00,  1.58s/it]\n",
      "100%|██████████| 100/100 [03:04<00:00,  1.84s/it]\n",
      "100%|██████████| 100/100 [04:08<00:00,  2.49s/it]\n",
      "100%|██████████| 100/100 [05:52<00:00,  3.53s/it]\n",
      "100%|██████████| 100/100 [05:41<00:00,  3.41s/it]\n"
     ]
    }
   ],
   "source": [
    "for k in [3,5,8,10,12]:\n",
    "    centroids, cluster_assignments, convergence = my_k_means.k_means(\n",
    "        k=k,\n",
    "        data=tf_idf,\n",
    "        distance=euc_distance,\n",
    "        max_iter=100\n",
    "    )\n",
    "\n",
    "    with open(\"results/csv/kmeans/best_centroids_k{}.csv\".format(k), \"a+\") as f:\n",
    "                # f.write(str(k) + \";\")\n",
    "                np.savetxt(f, centroids, delimiter=\";\")\n",
    "\n",
    "        # with open(\"cluster_assignments.csv\", \"a+\") as f:\n",
    "        #     f.write(str(k) + \";\")\n",
    "        #     np.savetxt(f, cluster_assignments, delimiter=\";\")\n",
    "\n",
    "    with open(\"results/csv/kmeans/convergence_k{}.csv\".format(k), \"a+\") as f:\n",
    "            for entry in convergence:\n",
    "                    f.write(str(entry[0]) + \";\" + str(entry[1]) + \"\\n\")\n"
   ]
  },
  {
   "cell_type": "code",
   "execution_count": 5,
   "metadata": {},
   "outputs": [
    {
     "data": {
      "image/png": "[encoded data removed]",
      "text/plain": [
       "<Figure size 432x288 with 1 Axes>"
      ]
     },
     "metadata": {
      "needs_background": "light"
     },
     "output_type": "display_data"
    }
   ],
   "source": [
    "legend = []\n",
    "for k in [3,5,8,10,12]:\n",
    "    with open(\"results/csv/kmeans/convergence_k{}.csv\".format(k), \"r\") as f:\n",
    "        lines = f.readlines()\n",
    "    \n",
    "    time = []\n",
    "    fitness = []\n",
    "    legend.append(\"k = {}\".format(k))\n",
    "\n",
    "    for step in lines:\n",
    "        split_line = step.strip().split(\";\")\n",
    "        time.append(float(split_line[0]))\n",
    "        fitness.append(round(float(split_line[1]), 3))\n",
    "        \n",
    "    plt.plot(time, fitness)\n",
    "        \n",
    "plt.xlabel(\"Time (s)\")\n",
    "plt.ylabel(\"ADDC\")\n",
    "plt.title(\"K-Means document clustering: best fitness over time\")\n",
    "plt.legend(legend)\n",
    "plt.savefig(\"results/plots/k_tests_kmeans.png\")\n",
    "plt.show()"
   ]
  }
 ],
 "metadata": {
  "interpreter": {
   "hash": "54114f3fbba4d274a8c85a1d6a8c1c33fa7ce89db9398e77d99d6d2345210374"
  },
  "kernelspec": {
   "display_name": "Python 3.9.7 64-bit ('multiag': conda)",
   "language": "python",
   "name": "python3"
  },
  "language_info": {
   "codemirror_mode": {
    "name": "ipython",
    "version": 3
   },
   "file_extension": ".py",
   "mimetype": "text/x-python",
   "name": "python",
   "nbconvert_exporter": "python",
   "pygments_lexer": "ipython3",
   "version": "3.9.7"
  },
  "orig_nbformat": 4
 },
 "nbformat": 4,
 "nbformat_minor": 2
}

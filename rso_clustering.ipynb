{
 "cells": [
  {
   "cell_type": "code",
   "execution_count": 34,
   "metadata": {},
   "outputs": [],
   "source": [
    "import pandas as pd\n",
    "import numpy as np\n",
    "from rso import rso_clustering\n",
    "import matplotlib.pyplot as plt"
   ]
  },
  {
   "cell_type": "code",
   "execution_count": 2,
   "metadata": {},
   "outputs": [
    {
     "name": "stdout",
     "output_type": "stream",
     "text": [
      "Loading data...\n",
      "Done.\n"
     ]
    }
   ],
   "source": [
    "print(\"Loading data...\")\n",
    "tf_idf = pd.read_csv('data/tfidf.csv')\n",
    "print(\"Done.\")\n",
    "\n",
    "tf_idf = np.array(tf_idf)"
   ]
  },
  {
   "cell_type": "code",
   "execution_count": 3,
   "metadata": {},
   "outputs": [],
   "source": [
    "def euc_distance(mp, mj):\n",
    "    return np.linalg.norm(mp-mj)\n",
    "\n",
    "def cos_distance(mp, mj):\n",
    "    return np.dot(mp, mj)/(np.linalg.norm(mp)*np.linalg.norm(mj))\n",
    "\n",
    "# print(euc_distance(tf_idf[0], tf_idf[1]))\n",
    "# print(cos_distance(tf_idf[0], tf_idf[1]))"
   ]
  },
  {
   "cell_type": "code",
   "execution_count": 4,
   "metadata": {},
   "outputs": [],
   "source": [
    "RSO_ITERATIONS = 40\n",
    "n = tf_idf.shape[0]\n",
    "k = 5"
   ]
  },
  {
   "cell_type": "code",
   "execution_count": 5,
   "metadata": {},
   "outputs": [],
   "source": [
    "# kmeans = cluster.KMeans(n_clusters=3)\n",
    "# kmeans = kmeans.fit(tf_idf)"
   ]
  },
  {
   "cell_type": "code",
   "execution_count": 33,
   "metadata": {},
   "outputs": [
    {
     "name": "stderr",
     "output_type": "stream",
     "text": [
      "100%|██████████| 40/40 [12:41<00:00, 19.05s/it]\n",
      "100%|██████████| 40/40 [18:33<00:00, 27.83s/it]\n",
      "100%|██████████| 40/40 [21:30<00:00, 32.25s/it]\n"
     ]
    }
   ],
   "source": [
    "# for k in [5,8,10]:\n",
    "for k in [3,5,8,10]:\n",
    "\n",
    "        population, best_rat, cluster_assignments, convergence = rso_clustering.rso_clustering(instances=tf_idf,\n",
    "                agents=20,\n",
    "                k=k,\n",
    "                min_bound=np.zeros((k,n)),\n",
    "                max_bound=np.ones((k,n)),\n",
    "                distance=euc_distance,\n",
    "                max_steps=RSO_ITERATIONS\n",
    "        )\n",
    "\n",
    "        with open(\"results/csv/best_rat.csv\", \"a+\") as f:\n",
    "                f.write(str(k) + \";\")\n",
    "                np.savetxt(f, best_rat, delimiter=\";\")\n",
    "\n",
    "        # with open(\"cluster_assignments.csv\", \"a+\") as f:\n",
    "        #     f.write(str(k) + \";\")\n",
    "        #     np.savetxt(f, cluster_assignments, delimiter=\";\")\n",
    "\n",
    "        with open(\"results/csv/convergence.csv\", \"a+\") as f:\n",
    "                f.write(str(k) + \";\")\n",
    "                np.savetxt(f, np.array(convergence).reshape((1,41)), delimiter=\";\")\n"
   ]
  },
  {
   "cell_type": "code",
   "execution_count": 61,
   "metadata": {},
   "outputs": [
    {
     "data": {
      "image/png": "[encoded data removed]",
      "text/plain": [
       "<Figure size 432x288 with 1 Axes>"
      ]
     },
     "metadata": {
      "needs_background": "light"
     },
     "output_type": "display_data"
    }
   ],
   "source": [
    "with open(\"results/csv/convergence.csv\", \"r\") as f:\n",
    "    legend = []\n",
    "    for run in f.readlines():\n",
    "        steps = run.strip().split(\";\")\n",
    "        k = steps[0]\n",
    "        steps = steps[1:]\n",
    "        steps = [round(float(steps[i]), 3) for i in range(len(steps))]\n",
    "        plt.plot(range(len(steps)), steps)\n",
    "        legend.append(\"k = \" + k)\n",
    "        # ax = plt.gca()\n",
    "        # ax.yaxis.set_major_formatter(FormatStrFormatter('%.10f'))\n",
    "    \n",
    "    plt.xlabel(\"Step\")\n",
    "    plt.ylabel(\"ADDC\")\n",
    "    plt.title(\"RSO document clustering: best fitness over time\")\n",
    "    plt.legend(legend)\n",
    "    plt.savefig(\"results/plots/k_tests_rso.png\")\n",
    "    plt.show()"
   ]
  }
 ],
 "metadata": {
  "interpreter": {
   "hash": "54114f3fbba4d274a8c85a1d6a8c1c33fa7ce89db9398e77d99d6d2345210374"
  },
  "kernelspec": {
   "display_name": "Python 3.9.7 64-bit ('multiag': conda)",
   "language": "python",
   "name": "python3"
  },
  "language_info": {
   "codemirror_mode": {
    "name": "ipython",
    "version": 3
   },
   "file_extension": ".py",
   "mimetype": "text/x-python",
   "name": "python",
   "nbconvert_exporter": "python",
   "pygments_lexer": "ipython3",
   "version": "3.9.7"
  },
  "orig_nbformat": 4
 },
 "nbformat": 4,
 "nbformat_minor": 2
}

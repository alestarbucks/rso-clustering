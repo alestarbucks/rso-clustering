{
 "cells": [
  {
   "cell_type": "code",
   "execution_count": 1,
   "metadata": {},
   "outputs": [],
   "source": [
    "import pandas as pd\n",
    "import numpy as np\n",
    "from rso import rso_clustering\n",
    "import matplotlib.pyplot as plt"
   ]
  },
  {
   "cell_type": "code",
   "execution_count": 2,
   "metadata": {},
   "outputs": [
    {
     "name": "stdout",
     "output_type": "stream",
     "text": [
      "Loading data...\n",
      "Done.\n"
     ]
    }
   ],
   "source": [
    "print(\"Loading data...\")\n",
    "tf_idf = pd.read_csv('data/tfidf.csv')\n",
    "print(\"Done.\")\n",
    "\n",
    "tf_idf = np.array(tf_idf)"
   ]
  },
  {
   "cell_type": "code",
   "execution_count": 3,
   "metadata": {},
   "outputs": [],
   "source": [
    "def euc_distance(mp, mj):\n",
    "    return np.linalg.norm(mp-mj)\n",
    "\n",
    "# can't use cos_distance: matrix too sparse\n",
    "def cos_distance(mp, mj):\n",
    "    return np.dot(mp, mj)/(np.linalg.norm(mp)*np.linalg.norm(mj))\n",
    "\n",
    "# print(euc_distance(tf_idf[0], tf_idf[1]))\n",
    "# print(cos_distance(tf_idf[0], tf_idf[1]))"
   ]
  },
  {
   "cell_type": "code",
   "execution_count": 4,
   "metadata": {},
   "outputs": [
    {
     "name": "stderr",
     "output_type": "stream",
     "text": [
      " 82%|████████▎ | 33/40 [10:55<02:16, 19.49s/it]"
     ]
    }
   ],
   "source": [
    "RSO_ITERATIONS = 40\n",
    "n = tf_idf.shape[0]\n",
    "\n",
    "for k in [3,5,8,10,12]:\n",
    "        population, best_rat, cluster_assignments, convergence = rso_clustering.rso_clustering(instances=tf_idf,\n",
    "                agents=20,\n",
    "                k=k,\n",
    "                min_bound=np.zeros((k,n)),\n",
    "                max_bound=np.ones((k,n)),\n",
    "                distance=euc_distance,\n",
    "                max_steps=RSO_ITERATIONS\n",
    "        )\n",
    "\n",
    "        with open(\"results/csv/rso/best_rat_k{}.csv\".format(k), \"a+\") as f:\n",
    "                f.write(str(k) + \";\")\n",
    "                np.savetxt(f, best_rat, delimiter=\";\")\n",
    "\n",
    "        # with open(\"cluster_assignments.csv\", \"a+\") as f:\n",
    "        #     f.write(str(k) + \";\")\n",
    "        #     np.savetxt(f, cluster_assignments, delimiter=\";\")\n",
    "\n",
    "        with open(\"results/csv/rso/convergence_k{}.csv\".format(k), \"a+\") as f:\n",
    "                for entry in convergence:\n",
    "                        f.write(str(entry[0]) + \";\" + str(entry[1]) + \"\\n\")\n"
   ]
  },
  {
   "cell_type": "code",
   "execution_count": null,
   "metadata": {},
   "outputs": [
    {
     "data": {
      "image/png": "[encoded data removed]",
      "text/plain": [
       "<Figure size 432x288 with 1 Axes>"
      ]
     },
     "metadata": {
      "needs_background": "light"
     },
     "output_type": "display_data"
    }
   ],
   "source": [
    "legend = []\n",
    "for k in [3,5,8,10,12]:\n",
    "    with open(\"results/csv/rso/convergence_k{}.csv\".format(k), \"r\") as f:\n",
    "        lines = f.readlines()\n",
    "    \n",
    "    time = []\n",
    "    fitness = []\n",
    "    legend.append(\"k = {}\".format(k))\n",
    "\n",
    "    for step in lines:\n",
    "        split_line = step.strip().split(\";\")\n",
    "        time.append(float(split_line[0]))\n",
    "        fitness.append(round(float(split_line[1]), 3))\n",
    "        \n",
    "    plt.plot(time, fitness)\n",
    "        \n",
    "plt.xlabel(\"Time (s)\")\n",
    "plt.ylabel(\"ADDC\")\n",
    "plt.title(\"RSO document clustering: best fitness over time\")\n",
    "plt.legend(legend)\n",
    "plt.savefig(\"results/plots/k_tests_rso.png\")\n",
    "plt.show()"
   ]
  }
 ],
 "metadata": {
  "interpreter": {
   "hash": "54114f3fbba4d274a8c85a1d6a8c1c33fa7ce89db9398e77d99d6d2345210374"
  },
  "kernelspec": {
   "display_name": "Python 3.9.7 64-bit ('multiag': conda)",
   "language": "python",
   "name": "python3"
  },
  "language_info": {
   "codemirror_mode": {
    "name": "ipython",
    "version": 3
   },
   "file_extension": ".py",
   "mimetype": "text/x-python",
   "name": "python",
   "nbconvert_exporter": "python",
   "pygments_lexer": "ipython3",
   "version": "3.9.7"
  },
  "orig_nbformat": 4
 },
 "nbformat": 4,
 "nbformat_minor": 2
}

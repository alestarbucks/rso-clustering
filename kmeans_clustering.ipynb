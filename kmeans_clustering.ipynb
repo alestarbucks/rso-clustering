{
 "cells": [
  {
   "cell_type": "code",
   "execution_count": 2,
   "metadata": {},
   "outputs": [],
   "source": [
    "import pandas as pd\n",
    "import numpy as np\n",
    "# from sklearn import cluster\n",
    "# from nltk.cluster.kmeans import KMeansClusterer\n",
    "from k_means.k_means import KMeans"
   ]
  },
  {
   "cell_type": "code",
   "execution_count": 3,
   "metadata": {},
   "outputs": [
    {
     "name": "stdout",
     "output_type": "stream",
     "text": [
      "Loading data...\n",
      "Done.\n"
     ]
    }
   ],
   "source": [
    "print(\"Loading data...\")\n",
    "tf_idf = pd.read_csv('data/tfidf.csv')\n",
    "print(\"Done.\")\n",
    "\n",
    "tf_idf = np.array(tf_idf)"
   ]
  },
  {
   "cell_type": "code",
   "execution_count": 4,
   "metadata": {},
   "outputs": [],
   "source": [
    "def euc_distance(mp, mj):\n",
    "    return np.linalg.norm(mp-mj)\n",
    "\n",
    "def cos_distance(mp, mj):\n",
    "    return np.dot(mp, mj)/(np.linalg.norm(mp)*np.linalg.norm(mj))\n",
    "\n",
    "# print(euc_distance(tf_idf[0], tf_idf[1]))\n",
    "# print(cos_distance(tf_idf[0], tf_idf[1]))"
   ]
  },
  {
   "cell_type": "code",
   "execution_count": 5,
   "metadata": {},
   "outputs": [],
   "source": [
    "def addc(centroids, data, distance):\n",
    "    k = len(centroids)\n",
    "    cluster_assignments = [[] for _ in range(k)]\n",
    "\n",
    "    for i in data:\n",
    "        distances = []\n",
    "        for c in centroids:\n",
    "            distances.append(distance(i, c))\n",
    "        \n",
    "        cluster_assignments[np.argmin(distances)].append(i)\n",
    "\n",
    "    cluster_index = 0\n",
    "    fitness = 0\n",
    "\n",
    "    for cluster in cluster_assignments:\n",
    "        if len(cluster) == 0: continue\n",
    "        \n",
    "        aux = 0\n",
    "\n",
    "        for instance in cluster:\n",
    "            aux += distance(centroids[cluster_index], instance)\n",
    "        \n",
    "        fitness += aux/len(cluster)\n",
    "    \n",
    "    return fitness/k"
   ]
  },
  {
   "cell_type": "code",
   "execution_count": 6,
   "metadata": {},
   "outputs": [],
   "source": [
    "k = 3\n",
    "fitnesses = []\n",
    "\n",
    "with open(\"results/csv/addc_kmeans.csv\", \"a+\") as f:\n",
    "    f.write(\"k;fitness\\n\")\n",
    "\n",
    "for k in [3,5,8,10]:\n",
    "    model = KMeans(max_iter=50, n_clusters=k, distance=euc_distance)\n",
    "    (clusters, data_with_clusters) = model.fit(tf_idf)\n",
    "\n",
    "    fitness = addc(clusters, tf_idf, euc_distance)\n",
    "    fitnesses.append(fitness)\n",
    "\n",
    "    with open(\"results/csv/addc_kmeans.csv\", \"a+\") as f:\n",
    "        f.write(str(k) + \";\" + str(fitness) + \"\\n\")"
   ]
  }
 ],
 "metadata": {
  "interpreter": {
   "hash": "54114f3fbba4d274a8c85a1d6a8c1c33fa7ce89db9398e77d99d6d2345210374"
  },
  "kernelspec": {
   "display_name": "Python 3.9.7 64-bit ('multiag': conda)",
   "language": "python",
   "name": "python3"
  },
  "language_info": {
   "codemirror_mode": {
    "name": "ipython",
    "version": 3
   },
   "file_extension": ".py",
   "mimetype": "text/x-python",
   "name": "python",
   "nbconvert_exporter": "python",
   "pygments_lexer": "ipython3",
   "version": "3.9.7"
  },
  "orig_nbformat": 4
 },
 "nbformat": 4,
 "nbformat_minor": 2
}
